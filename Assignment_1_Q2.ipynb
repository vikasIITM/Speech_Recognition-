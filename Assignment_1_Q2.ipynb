{
  "nbformat": 4,
  "nbformat_minor": 0,
  "metadata": {
    "colab": {
      "provenance": []
    },
    "kernelspec": {
      "name": "python3",
      "display_name": "Python 3"
    },
    "language_info": {
      "name": "python"
    }
  },
  "cells": [
    {
      "cell_type": "code",
      "source": [
        "from google.colab import drive\n",
        "drive.mount('/content/drive')"
      ],
      "metadata": {
        "colab": {
          "base_uri": "https://localhost:8080/"
        },
        "id": "og-HCRu0_hgY",
        "outputId": "36af7e21-8ff4-462d-b51f-5978b2b29eed"
      },
      "execution_count": 1,
      "outputs": [
        {
          "output_type": "stream",
          "name": "stdout",
          "text": [
            "Drive already mounted at /content/drive; to attempt to forcibly remount, call drive.mount(\"/content/drive\", force_remount=True).\n"
          ]
        }
      ]
    },
    {
      "cell_type": "code",
      "source": [
        "import numpy as np\n",
        "from matplotlib import pyplot as plt\n",
        "import os\n",
        "import pandas as pd\n",
        "from matplotlib.colors import ListedColormap"
      ],
      "metadata": {
        "id": "WavMTlVX1spG"
      },
      "execution_count": 2,
      "outputs": []
    },
    {
      "cell_type": "code",
      "source": [
        "linearClass1 = pd.read_csv(\"/content/drive/MyDrive/assign1_data/q2/l_class1.txt\", header=None)\n",
        "linearClass2 = pd.read_csv(\"/content/drive/MyDrive/assign1_data/q2/l_class2.txt\", header=None)\n",
        "linearClass3 = pd.read_csv(\"/content/drive/MyDrive/assign1_data/q2/l_class3.txt\" ,header = None)\n",
        "NonlinearClass1 = pd.read_csv(\"/content/drive/MyDrive/assign1_data/q2/nl_class1.txt\", header=None)\n",
        "NonlinearClass2 = pd.read_csv(\"/content/drive/MyDrive/assign1_data/q2/nl_class2.txt\", header=None)\n",
        "NonlinearClass3 = pd.read_csv(\"/content/drive/MyDrive/assign1_data/q2/nl_class3.txt\", header = None)"
      ],
      "metadata": {
        "id": "EyBPBxIC1voe"
      },
      "execution_count": 3,
      "outputs": []
    },
    {
      "cell_type": "code",
      "source": [],
      "metadata": {
        "id": "jTXjCk_e3iI5"
      },
      "execution_count": 3,
      "outputs": []
    },
    {
      "cell_type": "markdown",
      "source": [
        "### Preprocessing"
      ],
      "metadata": {
        "id": "o56O72CB2syr"
      }
    },
    {
      "cell_type": "code",
      "source": [
        "def extractXY(data):\n",
        "  try:\n",
        "    x, y = data.split(' ')\n",
        "  except:\n",
        "    x, y, z = data.split(' ')\n",
        "  return float(x), float(y)"
      ],
      "metadata": {
        "id": "u3PUvwtT10Bt"
      },
      "execution_count": 4,
      "outputs": []
    },
    {
      "cell_type": "code",
      "source": [
        "def get_data(data):\n",
        "  xlist, ylist = [], []\n",
        "  for i in data:\n",
        "    x, y = extractXY(i)\n",
        "    xlist.append(x)\n",
        "    ylist.append(y)\n",
        "  return xlist, ylist"
      ],
      "metadata": {
        "id": "2UOIAWou2xmN"
      },
      "execution_count": 5,
      "outputs": []
    },
    {
      "cell_type": "markdown",
      "source": [
        "**Linear**"
      ],
      "metadata": {
        "id": "K1_SpzvP3VK2"
      }
    },
    {
      "cell_type": "code",
      "source": [
        "linearClass1x, linearClass1y = get_data(linearClass1[0])\n",
        "linearClass2x, linearClass2y = get_data(linearClass2[0])\n",
        "linearClass3x, linearClass3y = get_data(linearClass3[0])"
      ],
      "metadata": {
        "id": "Tg2FaKJS2071"
      },
      "execution_count": 6,
      "outputs": []
    },
    {
      "cell_type": "code",
      "source": [
        "train_lC1x, test_lc1x = linearClass1x[:len(linearClass1x)//2], linearClass1x[len(linearClass1x)//2:]\n",
        "train_lC1y, test_lc1y = linearClass1y[:len(linearClass1y)//2], linearClass1y[len(linearClass1y)//2:]\n",
        "\n",
        "train_lC2x, test_lc2x = linearClass2x[:len(linearClass2x)//2], linearClass2x[len(linearClass2x)//2:]\n",
        "train_lC2y, test_lc2y = linearClass2y[:len(linearClass2y)//2], linearClass2y[len(linearClass2y)//2:]\n",
        "\n",
        "train_lC3x, test_lc3x = linearClass3x[:len(linearClass3x)//2], linearClass3x[len(linearClass3x)//2:]\n",
        "train_lC3y, test_lc3y = linearClass3y[:len(linearClass3y)//2], linearClass3y[len(linearClass3y)//2:]"
      ],
      "metadata": {
        "id": "nuvjYicz27oS"
      },
      "execution_count": 7,
      "outputs": []
    },
    {
      "cell_type": "code",
      "source": [
        "plt.scatter(train_lC1x, train_lC1y)\n",
        "plt.scatter(train_lC2x, train_lC2y)\n",
        "plt.scatter(train_lC3x, train_lC3y)\n",
        "plt.title('Linear Training Dataset')\n",
        "plt.legend(['Class1', 'Class2', 'Class3'])\n",
        "plt.show()"
      ],
      "metadata": {
        "colab": {
          "base_uri": "https://localhost:8080/",
          "height": 281
        },
        "id": "CfYgs8bz6Odc",
        "outputId": "0fead52c-f392-4e6c-8005-28d602cf7159"
      },
      "execution_count": 8,
      "outputs": [
        {
          "output_type": "display_data",
          "data": {
            "text/plain": [
              "<Figure size 432x288 with 1 Axes>"
            ],
            "image/png": "[encoded data removed]"
          },
          "metadata": {
            "needs_background": "light"
          }
        }
      ]
    },
    {
      "cell_type": "markdown",
      "source": [
        "**Non linear**"
      ],
      "metadata": {
        "id": "yP8g10rc38tO"
      }
    },
    {
      "cell_type": "code",
      "source": [
        "NonlinearClass1x, NonlinearClass1y = get_data(NonlinearClass1[0])\n",
        "NonlinearClass2x, NonlinearClass2y = get_data(NonlinearClass2[0])\n",
        "NonlinearClass3x, NonlinearClass3y = get_data(NonlinearClass3[0])"
      ],
      "metadata": {
        "id": "yLMrV1lH2_Sw"
      },
      "execution_count": 9,
      "outputs": []
    },
    {
      "cell_type": "code",
      "source": [
        "train_nlC1x, test_nlc1x = NonlinearClass1x[:len(NonlinearClass1x)//2], NonlinearClass1x[len(NonlinearClass1x)//2:]\n",
        "train_nlC1y, test_nlc1y = NonlinearClass1y[:len(NonlinearClass1y)//2], NonlinearClass1y[len(NonlinearClass1y)//2:]\n",
        "\n",
        "train_nlC2x, test_nlc2x = NonlinearClass2x[:len(NonlinearClass2x)//2], NonlinearClass2x[len(NonlinearClass2x)//2:]\n",
        "train_nlC2y, test_nlc2y = NonlinearClass2y[:len(NonlinearClass2y)//2], NonlinearClass2y[len(NonlinearClass2y)//2:]\n",
        "\n",
        "train_nlC3x, test_nlc3x = NonlinearClass3x[:len(NonlinearClass3x)//2], NonlinearClass3x[len(NonlinearClass3x)//2:]\n",
        "train_nlC3y, test_nlc3y = NonlinearClass3y[:len(NonlinearClass3y)//2], NonlinearClass3y[len(NonlinearClass3y)//2:]"
      ],
      "metadata": {
        "id": "b3dzBMLg4JlQ"
      },
      "execution_count": 10,
      "outputs": []
    },
    {
      "cell_type": "code",
      "source": [
        "plt.scatter(train_nlC1x, train_nlC1y)\n",
        "plt.scatter(train_nlC2x, train_nlC2y)\n",
        "plt.scatter(train_nlC3x, train_nlC3y)\n",
        "plt.title('Non Linear Training Dataset')\n",
        "plt.legend(['Class1', 'Class2', 'Class3'])\n",
        "plt.show()"
      ],
      "metadata": {
        "colab": {
          "base_uri": "https://localhost:8080/",
          "height": 281
        },
        "id": "rBStoDFa6JVn",
        "outputId": "1f69ee9d-a520-4e6a-8af9-60c4b8d11b9c"
      },
      "execution_count": 11,
      "outputs": [
        {
          "output_type": "display_data",
          "data": {
            "text/plain": [
              "<Figure size 432x288 with 1 Axes>"
            ],
            "image/png": "[encoded data removed]"
          },
          "metadata": {
            "needs_background": "light"
          }
        }
      ]
    },
    {
      "cell_type": "markdown",
      "source": [
        "**Base value**"
      ],
      "metadata": {
        "id": "zT15KtMd4pfU"
      }
    },
    {
      "cell_type": "code",
      "source": [
        "test_datalx = np.concatenate([test_lc1x, test_lc2x,test_lc3x])\n",
        "test_dataly = np.concatenate([test_lc1y, test_lc2y,test_lc3y])\n",
        "\n",
        "Gtl1, Gtl2, Gtl3 = np.full(len(test_lc1x), 1), np.full(len(test_lc2x), 2), np.full(len(test_lc3x), 3)\n",
        "Gtl = np.concatenate([Gtl1, Gtl2, Gtl3])"
      ],
      "metadata": {
        "id": "h7tdit_s4KLj"
      },
      "execution_count": 12,
      "outputs": []
    },
    {
      "cell_type": "code",
      "source": [
        "test_datanlx = np.concatenate([test_nlc1x, test_nlc2x,test_nlc3x])\n",
        "test_datanly = np.concatenate([test_nlc1y, test_nlc2y,test_nlc3y])\n",
        "\n",
        "Gtnl1, Gtnl2, Gtnl3 = np.full(len(test_nlc1x), 1), np.full(len(test_nlc2x), 2), np.full(len(test_nlc3x), 3)\n",
        "Gtnl = np.concatenate([Gtl1, Gtl2, Gtl3])"
      ],
      "metadata": {
        "id": "f5Ly-Zt74QtD"
      },
      "execution_count": 13,
      "outputs": []
    },
    {
      "cell_type": "markdown",
      "source": [
        "**Decision plot**"
      ],
      "metadata": {
        "id": "YZcCGxDF42OS"
      }
    },
    {
      "cell_type": "code",
      "source": [
        "lminx = np.min([np.min(train_lC1x), np.min(train_lC2x), np.min(train_lC3x)])\n",
        "lmaxx = np.max([np.max(train_lC1x), np.max(train_lC2x), np.max(train_lC3x)])\n",
        "\n",
        "lminy = np.min([np.min(train_lC1y), np.min(train_lC2y), np.min(train_lC3y)])\n",
        "lmaxy = np.max([np.max(train_lC1y), np.max(train_lC2y), np.max(train_lC3y)])"
      ],
      "metadata": {
        "id": "JGrmSnzO45Hq"
      },
      "execution_count": 14,
      "outputs": []
    },
    {
      "cell_type": "code",
      "source": [
        "f = 3 \n",
        "dvlx, dvly = [], []\n",
        "for i in range(int(lminx)-f, int(lmaxx)+f):\n",
        "  for j in range(int(lminy)-f, int(lmaxy)+f):\n",
        "    dvlx.append(i)\n",
        "    dvly.append(j)"
      ],
      "metadata": {
        "id": "P4UxoMIn47Eg"
      },
      "execution_count": 15,
      "outputs": []
    },
    {
      "cell_type": "code",
      "source": [
        "nlminx = np.min([np.min(train_nlC1x), np.min(train_nlC2x), np.min(train_nlC3x)])\n",
        "nlmaxx = np.max([np.max(train_nlC1x), np.max(train_nlC2x), np.max(train_nlC3x)])\n",
        "\n",
        "nlminy = np.min([np.min(train_nlC1y), np.min(train_nlC2y), np.min(train_nlC3y)])\n",
        "nlmaxy = np.max([np.max(train_nlC1y), np.max(train_nlC2y), np.max(train_nlC3y)])\n",
        "\n",
        "(nlminx, nlmaxx) , (nlminy, nlmaxy)"
      ],
      "metadata": {
        "colab": {
          "base_uri": "https://localhost:8080/"
        },
        "id": "vNCd71is4-r-",
        "outputId": "d53af83c-5c1c-49a1-d4a2-f3e0c141804d"
      },
      "execution_count": 16,
      "outputs": [
        {
          "output_type": "execute_result",
          "data": {
            "text/plain": [
              "((-1.986585, 4.451719), (-1.472881, 1.197661))"
            ]
          },
          "metadata": {},
          "execution_count": 16
        }
      ]
    },
    {
      "cell_type": "code",
      "source": [
        "f = 3 #margin addition factor\n",
        "dvnlx, dvnly = [], []\n",
        "for i in range(int(nlminx)-f, int(nlmaxx)+f):\n",
        "  for j in range(int(nlminy)-f, int(nlmaxy)+f):\n",
        "    dvnlx.append(i)\n",
        "    dvnly.append(j)"
      ],
      "metadata": {
        "id": "tgOIrGLP5EOT"
      },
      "execution_count": 17,
      "outputs": []
    },
    {
      "cell_type": "markdown",
      "source": [
        " **Multivariate density function**"
      ],
      "metadata": {
        "id": "hxQfyE496fZR"
      }
    },
    {
      "cell_type": "code",
      "source": [
        "def multivariateDensity(x, mu, cov):\n",
        "  icov = np.linalg.inv(cov)\n",
        "  num = np.exp(-0.5*np.dot((x-mu), np.dot(icov, (x-mu).T)))\n",
        "  den = 2*np.pi*np.sqrt(np.linalg.det(cov))\n",
        "  return num/den"
      ],
      "metadata": {
        "id": "e1saTu7j5VDR"
      },
      "execution_count": 18,
      "outputs": []
    },
    {
      "cell_type": "markdown",
      "source": [
        "**Confusion Matrix**"
      ],
      "metadata": {
        "id": "U6HOk64o7A25"
      }
    },
    {
      "cell_type": "code",
      "source": [
        "def confusion_matrix(y, ypred):\n",
        "  c11, c12, c13, c21, c22, c23, c31, c32, c33 = 0, 0, 0, 0, 0, 0, 0, 0, 0\n",
        "  for i in range(len(ypred)):\n",
        "    if ypred[i] == 1 and y[i] == 1:\n",
        "      c11 += 1\n",
        "    elif ypred[i] == 2 and y[i] == 1:\n",
        "      c12 += 1\n",
        "    elif ypred[i] == 3 and y[i] == 1:\n",
        "      c13 += 1\n",
        "    elif ypred[i] == 2 and y[i] == 1:\n",
        "      c21 += 1\n",
        "    elif ypred[i] == 2 and y[i] == 2:\n",
        "      c22 += 1\n",
        "    elif ypred[i] == 2 and y[i] == 3:\n",
        "      c23 += 1\n",
        "    elif ypred[i] == 3 and y[i] == 1:\n",
        "      c31 += 1\n",
        "    elif ypred[i] == 3 and y[i] == 2:\n",
        "      c32 += 1\n",
        "    elif ypred[i] == 3 and y[i] == 3:\n",
        "      c33 += 1\n",
        "\n",
        "  return [[c11, c12, c13], [c21, c22, c23], [c31, c32, c33]]"
      ],
      "metadata": {
        "id": "n18LZUNI6elS"
      },
      "execution_count": 19,
      "outputs": []
    },
    {
      "cell_type": "markdown",
      "source": [
        "**Accuracy**"
      ],
      "metadata": {
        "id": "7Xx82Rn67q-R"
      }
    },
    {
      "cell_type": "code",
      "source": [
        "def accuracy(cm):\n",
        "  c11, c22, c33 = cm[0][0], cm[1][1], cm[2][2]\n",
        "  return (c11+c22+c33)/750"
      ],
      "metadata": {
        "id": "drMt9twh7WGc"
      },
      "execution_count": 20,
      "outputs": []
    },
    {
      "cell_type": "markdown",
      "source": [
        "**Precision**"
      ],
      "metadata": {
        "id": "FGeC7AeS7zIi"
      }
    },
    {
      "cell_type": "code",
      "source": [
        "def precision(cm):\n",
        "  p1 = cm[0][0] / (cm[0][0]+(cm[0][1] + cm[0][2]))\n",
        "  p2 = cm[1][1] / (cm[1][1]+(cm[1][0] + cm[1][2]))\n",
        "  p3 = cm[2][2] / (cm[2][2]+(cm[2][0] + cm[2][1]))\n",
        "  return (p1+p2+p3)/3"
      ],
      "metadata": {
        "id": "Cr7EmPsi7Wfn"
      },
      "execution_count": 21,
      "outputs": []
    },
    {
      "cell_type": "markdown",
      "source": [
        "**Recall**"
      ],
      "metadata": {
        "id": "OnlIOifi74x4"
      }
    },
    {
      "cell_type": "code",
      "source": [
        "def recall(cm):\n",
        "  r1 = cm[0][0] / (cm[0][0]+(cm[1][0] + cm[2][0]))\n",
        "  r2 = cm[1][1] / (cm[1][1]+(cm[0][1] + cm[2][1]))\n",
        "  r3 = cm[2][2] / (cm[2][2]+(cm[0][2] + cm[1][2]))\n",
        "  return (r1+r2+r3)/3"
      ],
      "metadata": {
        "id": "gR8XZQZw7a1_"
      },
      "execution_count": 22,
      "outputs": []
    },
    {
      "cell_type": "markdown",
      "source": [
        "**F1score**"
      ],
      "metadata": {
        "id": "-mETgL3S79aJ"
      }
    },
    {
      "cell_type": "code",
      "source": [
        "def Fmeasure(cm):\n",
        "  p1 = cm[0][0] / (cm[0][0]+(cm[0][1] + cm[0][2]))\n",
        "  p2 = cm[1][1] / (cm[1][1]+(cm[1][0] + cm[1][2]))\n",
        "  p3 = cm[2][2] / (cm[2][2]+(cm[2][0] + cm[2][1]))\n",
        "  r1 = cm[0][0] / (cm[0][0]+(cm[1][0] + cm[2][0]))\n",
        "  r2 = cm[1][1] / (cm[1][1]+(cm[0][1] + cm[2][1]))\n",
        "  r3 = cm[2][2] / (cm[2][2]+(cm[0][2] + cm[1][2]))\n",
        "  fm1 = 2*p1*r1/(p1+r1)\n",
        "  fm2 = 2*p2*r2/(p2+r2)\n",
        "  fm3 = 2*p3*r3/(p3+r3)\n",
        "  return (fm1+fm2+fm3)/3"
      ],
      "metadata": {
        "id": "z6-bcqEV7edr"
      },
      "execution_count": 23,
      "outputs": []
    },
    {
      "cell_type": "markdown",
      "source": [
        "# BAYES CLASSIFIER"
      ],
      "metadata": {
        "id": "Gmd6sd748PgK"
      }
    },
    {
      "cell_type": "markdown",
      "source": [
        "**Prior**"
      ],
      "metadata": {
        "id": "cXAtBf3_8Lsh"
      }
    },
    {
      "cell_type": "markdown",
      "source": [
        "Linear"
      ],
      "metadata": {
        "id": "DeN_YRLsh0l9"
      }
    },
    {
      "cell_type": "code",
      "source": [
        "priorlC1=len(train_lC1x)/(len(train_lC1x)+len(train_lC2x)+len(train_lC3x))\n",
        "priorlC2=len(train_lC2x)/(len(train_lC1x)+len(train_lC2x)+len(train_lC3x))\n",
        "priorlC3=len(train_lC3x)/(len(train_lC1x)+len(train_lC2x)+len(train_lC3x))"
      ],
      "metadata": {
        "id": "gHRqDF937iAq"
      },
      "execution_count": 24,
      "outputs": []
    },
    {
      "cell_type": "markdown",
      "source": [
        "Non-linear"
      ],
      "metadata": {
        "id": "IphH4THVh260"
      }
    },
    {
      "cell_type": "code",
      "source": [
        "priornlC1=len(train_nlC1x)/(len(train_nlC1x)+len(train_nlC2x)+len(train_nlC3x))\n",
        "priornlC2=len(train_nlC2x)/(len(train_nlC1x)+len(train_nlC2x)+len(train_nlC3x))\n",
        "priornlC3=len(train_nlC3x)/(len(train_nlC1x)+len(train_nlC2x)+len(train_nlC3x))"
      ],
      "metadata": {
        "id": "zyyVj3ochzCz"
      },
      "execution_count": 25,
      "outputs": []
    },
    {
      "cell_type": "markdown",
      "source": [
        "**Mean**"
      ],
      "metadata": {
        "id": "NjcuKIQq8dzb"
      }
    },
    {
      "cell_type": "markdown",
      "source": [
        "Linear"
      ],
      "metadata": {
        "id": "0Yk97Fhoh7Fx"
      }
    },
    {
      "cell_type": "code",
      "source": [
        "meanlc1 = np.array([np.mean(train_lC1x), np.mean(train_lC1y)])\n",
        "meanlc2 = np.array([np.mean(train_lC2x), np.mean(train_lC2y)])\n",
        "meanlc3 = np.array([np.mean(train_lC3x), np.mean(train_lC3y)])"
      ],
      "metadata": {
        "id": "EXnPlT-48c7B"
      },
      "execution_count": 26,
      "outputs": []
    },
    {
      "cell_type": "markdown",
      "source": [
        "Non-linear"
      ],
      "metadata": {
        "id": "pania3Vfh-JI"
      }
    },
    {
      "cell_type": "code",
      "source": [
        "meannlc1 = np.array([np.mean(train_nlC1x), np.mean(train_nlC1y)])\n",
        "meannlc2 = np.array([np.mean(train_nlC2x), np.mean(train_nlC2y)])\n",
        "meannlc3 = np.array([np.mean(train_nlC3x), np.mean(train_nlC3y)])"
      ],
      "metadata": {
        "id": "8MQXPDvViBr1"
      },
      "execution_count": 27,
      "outputs": []
    },
    {
      "cell_type": "markdown",
      "source": [
        "**Variance**"
      ],
      "metadata": {
        "id": "z0ZYkPe88lL8"
      }
    },
    {
      "cell_type": "markdown",
      "source": [
        "Linear"
      ],
      "metadata": {
        "id": "8MDY-db_iIEm"
      }
    },
    {
      "cell_type": "code",
      "source": [
        "varlc1 = np.array([np.var(train_lC1x), np.var(train_lC1y)])\n",
        "varlc2 = np.array([np.var(train_lC2x), np.var(train_lC2y)])\n",
        "varlc3 = np.array([np.var(train_lC3x), np.var(train_lC3y)])"
      ],
      "metadata": {
        "id": "U3K-ThQc8g4t"
      },
      "execution_count": 28,
      "outputs": []
    },
    {
      "cell_type": "markdown",
      "source": [
        "Non-linear"
      ],
      "metadata": {
        "id": "EbQi56htiJ3D"
      }
    },
    {
      "cell_type": "code",
      "source": [
        "varnlc1 = np.array([np.var(train_nlC1x), np.var(train_nlC1y)])\n",
        "varnlc2 = np.array([np.var(train_nlC2x), np.var(train_nlC2y)])\n",
        "varnlc3 = np.array([np.var(train_nlC3x), np.var(train_nlC3y)])"
      ],
      "metadata": {
        "id": "fIgAmxxSiNQU"
      },
      "execution_count": 29,
      "outputs": []
    },
    {
      "cell_type": "markdown",
      "source": [
        "**Covariance**"
      ],
      "metadata": {
        "id": "tUCLuU2X8rp9"
      }
    },
    {
      "cell_type": "markdown",
      "source": [
        "Linear"
      ],
      "metadata": {
        "id": "TldEe4jjiRyK"
      }
    },
    {
      "cell_type": "code",
      "source": [
        "covlc1 = np.cov([train_lC1x, train_lC1y])\n",
        "covlc2 = np.cov([train_lC2x, train_lC2y])\n",
        "covlc3 = np.cov([train_lC3x, train_lC3y])"
      ],
      "metadata": {
        "id": "JQmE7Oc_8oqm"
      },
      "execution_count": 30,
      "outputs": []
    },
    {
      "cell_type": "markdown",
      "source": [
        "Non-linear"
      ],
      "metadata": {
        "id": "c03MucC7iTao"
      }
    },
    {
      "cell_type": "code",
      "source": [
        "covnlc1 = np.cov([train_nlC1x, train_nlC1y])\n",
        "covnlc2 = np.cov([train_nlC2x, train_nlC2y])\n",
        "covnlc3 = np.cov([train_nlC3x, train_nlC3y])"
      ],
      "metadata": {
        "id": "0lBx_sAeiVPd"
      },
      "execution_count": 31,
      "outputs": []
    },
    {
      "cell_type": "markdown",
      "source": [
        "# Case1"
      ],
      "metadata": {
        "id": "ujAdIhJp8_wI"
      }
    },
    {
      "cell_type": "markdown",
      "source": [
        "*Covariance for all classes is Iσ2. Use the average of the sample\n",
        "variances for all dimensions, for all classes, from the training data\n",
        "as σ2*"
      ],
      "metadata": {
        "id": "s9IqmVxDBDYu"
      }
    },
    {
      "cell_type": "code",
      "source": [
        "AvgVarl = (varlc1+varlc2+varlc3)/3\n",
        "classifier1_cov = np.identity(2)*AvgVarl"
      ],
      "metadata": {
        "id": "96kIGtyN8yo2"
      },
      "execution_count": 32,
      "outputs": []
    },
    {
      "cell_type": "code",
      "source": [
        "AvgVarnl = (varnlc1+varnlc2+varnlc3)/3\n",
        "classifiern1_cov = np.identity(2)*AvgVarnl"
      ],
      "metadata": {
        "id": "QT59BHoQjErO"
      },
      "execution_count": 33,
      "outputs": []
    },
    {
      "cell_type": "code",
      "source": [
        "def classifier1(x, y, mu, cov, prior):\n",
        "  mu1, mu2, mu3 = mu\n",
        "  prior1, prior2, prior3 = prior \n",
        "  classifier1_pred = []\n",
        "  for i in range(len(x)):\n",
        "    xi = [x[i], y[i]]\n",
        "    lh1 = multivariateDensity(xi, mu1, cov)\n",
        "    lh2 = multivariateDensity(xi, mu2, cov)\n",
        "    lh3 = multivariateDensity(xi, mu3, cov)\n",
        "\n",
        "    posterior1 = (prior1 * lh1) / (lh1 * prior1 + lh2 * prior2 + lh3 * prior3)\n",
        "    posterior2 = (prior2 * lh2) / (lh1 * prior1 + lh2 * prior2 + lh3 * prior3)\n",
        "    posterior3 = (prior3 * lh3) / (lh1 * prior1 + lh2 * prior2 + lh3 * prior3)\n",
        "\n",
        "    posterior = np.array([posterior1, posterior2, posterior3])\n",
        "    pred = np.argmax(posterior)\n",
        "    classifier1_pred.append(pred)\n",
        "\n",
        "  return classifier1_pred"
      ],
      "metadata": {
        "id": "CVLdyltB86U5"
      },
      "execution_count": 34,
      "outputs": []
    },
    {
      "cell_type": "code",
      "source": [
        "meanl = (meanlc1, meanlc2, meanlc3)\n",
        "priorl = (priorlC1, priorlC2, priorlC3)\n",
        "classifier1_pred = classifier1(test_datalx, test_dataly, meanl, classifier1_cov, priorl)\n",
        "classifier1_pred = [i+1 for i in classifier1_pred]"
      ],
      "metadata": {
        "id": "L2v3fsGU9UXq"
      },
      "execution_count": 35,
      "outputs": []
    },
    {
      "cell_type": "code",
      "source": [
        "meannl = (meannlc1, meannlc2, meannlc3)\n",
        "priornl = (priornlC1, priornlC2, priornlC3)\n",
        "classifiern1_pred = classifier1(test_datanlx, test_datanly, meannl, classifiern1_cov, priornl)\n",
        "classifiern1_pred = [i+1 for i in classifiern1_pred]"
      ],
      "metadata": {
        "id": "1ckw2VeOjPUm"
      },
      "execution_count": 36,
      "outputs": []
    },
    {
      "cell_type": "markdown",
      "source": [
        "**Plots**"
      ],
      "metadata": {
        "id": "Y8TVo7NH1Gba"
      }
    },
    {
      "cell_type": "code",
      "source": [
        "colors = ('black', 'yellow', 'm', 'blue', 'cyan')\n",
        "cmap = ListedColormap(colors[:len(np.unique(dvly))])\n",
        "resolution = 0.1\n",
        "xx1, xx2 = np.meshgrid(np.arange(lminx, lmaxx, resolution), np.arange(lminy, lmaxy, resolution))\n",
        "\n",
        "Z = np.array(classifier1(xx1.ravel(), xx2.ravel(), meanl, classifier1_cov, priorl))\n",
        "Z = Z.reshape(xx1.shape)\n",
        "\n",
        "\n",
        "plt.contourf(xx1, xx2, Z, alpha=0.3, cmap=cmap)\n",
        "plt.xlim(xx1.min(), xx1.max())\n",
        "plt.ylim(xx2.min(), xx2.max())\n",
        "\n",
        "\n",
        "plt.scatter(train_lC1x, train_lC1y)\n",
        "plt.scatter(train_lC2x, train_lC2y)\n",
        "plt.scatter(train_lC3x, train_lC3y)\n",
        "plt.title('CASE 1 Linear-Classifier')\n",
        "plt.show()"
      ],
      "metadata": {
        "colab": {
          "base_uri": "https://localhost:8080/",
          "height": 281
        },
        "id": "zUrPNXR7-R9M",
        "outputId": "5a59c166-16bb-4847-9540-5f9df39fd98a"
      },
      "execution_count": 37,
      "outputs": [
        {
          "output_type": "display_data",
          "data": {
            "text/plain": [
              "<Figure size 432x288 with 1 Axes>"
            ],
            "image/png": "[encoded data removed]"
          },
          "metadata": {
            "needs_background": "light"
          }
        }
      ]
    },
    {
      "cell_type": "code",
      "source": [
        "colors = ('black', 'yellow', 'm', 'blue', 'cyan')\n",
        "xx1, xx2 = np.meshgrid(np.arange(nlminx, nlmaxx, resolution), np.arange(nlminy, nlmaxy, resolution))\n",
        "\n",
        "Z = np.array(classifier1(xx1.ravel(), xx2.ravel(), meannl, classifiern1_cov, priornl))\n",
        "Z = Z.reshape(xx1.shape)\n",
        "\n",
        "plt.contourf(xx1, xx2, Z, alpha=0.3, cmap=cmap)\n",
        "plt.xlim(xx1.min(), xx1.max())\n",
        "plt.ylim(xx2.min(), xx2.max())\n",
        "\n",
        "plt.scatter(train_nlC1x, train_nlC1y)\n",
        "plt.scatter(train_nlC2x, train_nlC2y)\n",
        "plt.scatter(train_nlC3x, train_nlC3y)\n",
        "plt.title('CASE 1 Nonlinear-Classifier 1')\n",
        "plt.show()"
      ],
      "metadata": {
        "colab": {
          "base_uri": "https://localhost:8080/",
          "height": 281
        },
        "id": "Rz8gLgwYhCTr",
        "outputId": "d354f27e-02ad-4647-ef53-16ea7d5854bb"
      },
      "execution_count": 38,
      "outputs": [
        {
          "output_type": "display_data",
          "data": {
            "text/plain": [
              "<Figure size 432x288 with 1 Axes>"
            ],
            "image/png": "[encoded data removed]"
          },
          "metadata": {
            "needs_background": "light"
          }
        }
      ]
    },
    {
      "cell_type": "markdown",
      "source": [
        "**CASE 2**"
      ],
      "metadata": {
        "id": "7JpV1A3A_4Ym"
      }
    },
    {
      "cell_type": "markdown",
      "source": [
        "*Full but equal covariance for all classes, Σ. Use the average of the sample covariance matrix from all classes in the train data as Σ.* "
      ],
      "metadata": {
        "id": "wZfcKnOGA5rQ"
      }
    },
    {
      "cell_type": "code",
      "source": [
        "AvgCovl = (covlc1+covlc2+covlc3)/3"
      ],
      "metadata": {
        "id": "sqYp25y-_Bhl"
      },
      "execution_count": 39,
      "outputs": []
    },
    {
      "cell_type": "code",
      "source": [
        "AvgCovnl = (covnlc1+covnlc2+covnlc3)/3"
      ],
      "metadata": {
        "id": "49NVBIJYkb26"
      },
      "execution_count": 40,
      "outputs": []
    },
    {
      "cell_type": "code",
      "source": [
        "def classifier2(x, y, mu, cov, prior):\n",
        "  mu1, mu2, mu3 = mu\n",
        "  prior1, prior2, prior3 = prior \n",
        "  classifier2_pred = []\n",
        "  for i in range(len(x)):\n",
        "    xi = [x[i], y[i]]\n",
        "    lh1 = multivariateDensity(xi, mu1, cov)\n",
        "    lh2 = multivariateDensity(xi, mu2, cov)\n",
        "    lh3 = multivariateDensity(xi, mu3, cov)\n",
        "\n",
        "    posterior1 = (prior1 * lh1) / (lh1 * prior1 + lh2 * prior2 + lh3 * prior3)\n",
        "    posterior2 = (prior2 * lh2) / (lh1 * prior1 + lh2 * prior2 + lh3 * prior3)\n",
        "    posterior3 = (prior3 * lh3) / (lh1 * prior1 + lh2 * prior2 + lh3 * prior3)\n",
        "\n",
        "    posterior = np.array([posterior1, posterior2, posterior3])\n",
        "    pred = np.argmax(posterior)\n",
        "    classifier2_pred.append(pred)\n",
        "\n",
        "  return classifier2_pred"
      ],
      "metadata": {
        "id": "R836_J5j_2p_"
      },
      "execution_count": 41,
      "outputs": []
    },
    {
      "cell_type": "code",
      "source": [
        "meanl = (meanlc1, meanlc2, meanlc3)\n",
        "priorl = (priorlC1, priorlC2, priorlC3)\n",
        "classifier2_pred = classifier2(test_datalx, test_dataly, meanl, AvgCovl, priorl)\n",
        "classifier2_pred = [i+1 for i in classifier2_pred]"
      ],
      "metadata": {
        "id": "5BZb7h3wAEQu"
      },
      "execution_count": 42,
      "outputs": []
    },
    {
      "cell_type": "code",
      "source": [
        "meannl = (meannlc1, meannlc2, meannlc3)\n",
        "priornl = (priornlC1, priornlC2, priornlC3)\n",
        "classifiern2_pred = classifier2(test_datanlx, test_datanly, meannl, AvgCovnl, priornl)\n",
        "classifiern2_pred = [i+1 for i in classifiern2_pred]"
      ],
      "metadata": {
        "id": "O2QMU7DEkkib"
      },
      "execution_count": 43,
      "outputs": []
    },
    {
      "cell_type": "code",
      "source": [
        "colors = ('black', 'yellow', 'm', 'blue', 'cyan')\n",
        "cmap = ListedColormap(colors[:len(np.unique(dvly))])\n",
        "resolution = 0.1\n",
        "\n",
        "\n",
        "xx1, xx2 = np.meshgrid(np.arange(lminx, lmaxx, resolution), np.arange(lminy, lmaxy, resolution))\n",
        "\n",
        "Z = np.array(classifier2(xx1.ravel(), xx2.ravel(), meanl, AvgCovl, priorl))\n",
        "Z = Z.reshape(xx1.shape)\n",
        "\n",
        "plt.contourf(xx1, xx2, Z, alpha=0.3, cmap=cmap)\n",
        "plt.xlim(xx1.min(), xx1.max())\n",
        "plt.ylim(xx2.min(), xx2.max())\n",
        "\n",
        "\n",
        "plt.scatter(train_lC1x, train_lC1y)\n",
        "plt.scatter(train_lC2x, train_lC2y)\n",
        "plt.scatter(train_lC3x, train_lC3y)\n",
        "plt.title('CASE 2 Classifier ')\n",
        "plt.show()"
      ],
      "metadata": {
        "colab": {
          "base_uri": "https://localhost:8080/",
          "height": 281
        },
        "id": "Vy6j096bARzP",
        "outputId": "b463df65-fe17-4ec7-84a0-ccaf0d8de03b"
      },
      "execution_count": 44,
      "outputs": [
        {
          "output_type": "display_data",
          "data": {
            "text/plain": [
              "<Figure size 432x288 with 1 Axes>"
            ],
            "image/png": "[encoded data removed]"
          },
          "metadata": {
            "needs_background": "light"
          }
        }
      ]
    },
    {
      "cell_type": "code",
      "source": [
        "colors = ('black', 'yellow', 'm', 'blue', 'cyan')\n",
        "cmap = ListedColormap(colors[:len(np.unique(dvnly))])\n",
        "resolution = 0.1\n",
        "\n",
        "\n",
        "xx1, xx2 = np.meshgrid(np.arange(nlminx, nlmaxx, resolution), np.arange(nlminy, nlmaxy, resolution))\n",
        "\n",
        "Z = np.array(classifier2(xx1.ravel(), xx2.ravel(), meannl, AvgCovnl, priornl))\n",
        "Z = Z.reshape(xx1.shape)\n",
        "\n",
        "plt.contourf(xx1, xx2, Z, alpha=0.3, cmap=cmap)\n",
        "plt.xlim(xx1.min(), xx1.max())\n",
        "plt.ylim(xx2.min(), xx2.max())\n",
        "\n",
        "plt.scatter(train_nlC1x, train_nlC1y)\n",
        "plt.scatter(train_nlC2x, train_nlC2y)\n",
        "plt.scatter(train_nlC3x, train_nlC3y)\n",
        "plt.title('CASE 2 Non-linear Classifier')\n",
        "plt.show()"
      ],
      "metadata": {
        "colab": {
          "base_uri": "https://localhost:8080/",
          "height": 281
        },
        "id": "NpiXKycEk2kD",
        "outputId": "bfac7c2d-77e9-409c-c97c-fb73dff997a7"
      },
      "execution_count": 45,
      "outputs": [
        {
          "output_type": "display_data",
          "data": {
            "text/plain": [
              "<Figure size 432x288 with 1 Axes>"
            ],
            "image/png": "[encoded data removed]"
          },
          "metadata": {
            "needs_background": "light"
          }
        }
      ]
    },
    {
      "cell_type": "markdown",
      "source": [
        "**CASE 3**"
      ],
      "metadata": {
        "id": "g59m9NHeBYey"
      }
    },
    {
      "cell_type": "markdown",
      "source": [
        "*Diagonal covariance matrix, distinct for each class. Use variances from the sample covariance matrix for each class*"
      ],
      "metadata": {
        "id": "5bKTDKXrBifg"
      }
    },
    {
      "cell_type": "code",
      "source": [
        "dcov1 = covlc1.copy()\n",
        "dcov1[0][1] = 0\n",
        "dcov1[1][0] = 0\n",
        "\n",
        "dcov2 = covlc2.copy()\n",
        "dcov2[0][1] = 0\n",
        "dcov2[1][0] = 0\n",
        "\n",
        "dcov3 = covlc3.copy()\n",
        "dcov3[0][1] = 0\n",
        "dcov3[1][0] = 0\n",
        "\n",
        "classifier3_cov = (dcov1, dcov2, dcov3)"
      ],
      "metadata": {
        "id": "Q0pRCG-nAbvN"
      },
      "execution_count": 46,
      "outputs": []
    },
    {
      "cell_type": "code",
      "source": [
        "dcovn1 = covnlc1.copy()\n",
        "dcovn1[0][1] = 0\n",
        "dcovn1[1][0] = 0\n",
        "\n",
        "dcovn2 = covnlc2.copy()\n",
        "dcovn2[0][1] = 0\n",
        "dcovn2[1][0] = 0\n",
        "\n",
        "dcovn3 = covnlc3.copy()\n",
        "dcovn3[0][1] = 0\n",
        "dcovn3[1][0] = 0\n",
        "\n",
        "classifiern3_cov = (dcovn1, dcovn2, dcovn3)"
      ],
      "metadata": {
        "id": "M9zvW_SMl8hI"
      },
      "execution_count": 47,
      "outputs": []
    },
    {
      "cell_type": "code",
      "source": [
        "def classifier3(x, y, mu, cov, prior):\n",
        "  mu1, mu2, mu3 = mu\n",
        "  prior1, prior2, prior3 = prior \n",
        "  cov1, cov2, cov3 = cov\n",
        "  classifier3_pred = []\n",
        "  for i in range(len(x)):\n",
        "    xi = [x[i], y[i]]\n",
        "    lh1 = multivariateDensity(xi, mu1, cov1)\n",
        "    lh2 = multivariateDensity(xi, mu2, cov2)\n",
        "    lh3 = multivariateDensity(xi, mu3, cov3)\n",
        "\n",
        "    posterior1 = (prior1 * lh1) / (lh1 * prior1 + lh2 * prior2 + lh3 * prior3)\n",
        "    posterior2 = (prior2 * lh2) / (lh1 * prior1 + lh2 * prior2 + lh3 * prior3)\n",
        "    posterior3 = (prior3 * lh3) / (lh1 * prior1 + lh2 * prior2 + lh3 * prior3)\n",
        "\n",
        "    posterior = np.array([posterior1, posterior2, posterior3])\n",
        "    pred = np.argmax(posterior)\n",
        "    classifier3_pred.append(pred)\n",
        "\n",
        "  return classifier3_pred"
      ],
      "metadata": {
        "id": "Cx4cUXzFCP58"
      },
      "execution_count": 48,
      "outputs": []
    },
    {
      "cell_type": "code",
      "source": [
        "meanl = (meanlc1, meanlc2, meanlc3)\n",
        "priorl = (priorlC1, priorlC2, priorlC3)\n",
        "classifier3_pred = classifier3(test_datalx, test_dataly, meanl, classifier3_cov, priorl)\n",
        "classifier3_pred = [i+1 for i in classifier3_pred]"
      ],
      "metadata": {
        "id": "EZT0hECwCUXz"
      },
      "execution_count": 49,
      "outputs": []
    },
    {
      "cell_type": "code",
      "source": [
        "meannl = (meannlc1, meannlc2, meannlc3)\n",
        "priornl = (priornlC1, priornlC2, priornlC3)\n",
        "classifiern3_pred = classifier3(test_datanlx, test_datanly, meannl, classifiern3_cov, priornl)\n",
        "classifiern3_pred = [i+1 for i in classifiern3_pred]"
      ],
      "metadata": {
        "id": "HXiLVjtZmG3f"
      },
      "execution_count": 50,
      "outputs": []
    },
    {
      "cell_type": "code",
      "source": [
        "colors = ('black', 'yellow', 'm', 'blue', 'cyan')\n",
        "cmap = ListedColormap(colors[:len(np.unique(dvly))])\n",
        "resolution = 0.1\n",
        "\n",
        "\n",
        "xx1, xx2 = np.meshgrid(np.arange(lminx, lmaxx, resolution), np.arange(lminy, lmaxy, resolution))\n",
        "\n",
        "Z = np.array(classifier3(xx1.ravel(), xx2.ravel(), meanl, classifier3_cov, priorl))\n",
        "Z = Z.reshape(xx1.shape)\n",
        "\n",
        "plt.contourf(xx1, xx2, Z, alpha=0.3, cmap=cmap)\n",
        "plt.xlim(xx1.min(), xx1.max())\n",
        "plt.ylim(xx2.min(), xx2.max())\n",
        "\n",
        "plt.scatter(train_lC1x, train_lC1y)\n",
        "plt.scatter(train_lC2x, train_lC2y)\n",
        "plt.scatter(train_lC3x, train_lC3y)\n",
        "plt.title('CASE 3 Classifier')\n",
        "plt.show()"
      ],
      "metadata": {
        "colab": {
          "base_uri": "https://localhost:8080/",
          "height": 281
        },
        "id": "1i3GbLtcChJG",
        "outputId": "8cc76e60-67a8-4351-fe45-a47158509060"
      },
      "execution_count": 51,
      "outputs": [
        {
          "output_type": "display_data",
          "data": {
            "text/plain": [
              "<Figure size 432x288 with 1 Axes>"
            ],
            "image/png": "[encoded data removed]"
          },
          "metadata": {
            "needs_background": "light"
          }
        }
      ]
    },
    {
      "cell_type": "code",
      "source": [
        "colors = ('black', 'yellow', 'm', 'blue', 'cyan')\n",
        "cmap = ListedColormap(colors[:len(np.unique(dvnly))])\n",
        "resolution = 0.1\n",
        "\n",
        "\n",
        "xx1, xx2 = np.meshgrid(np.arange(nlminx, nlmaxx, resolution), np.arange(nlminy, nlmaxy, resolution))\n",
        "\n",
        "Z = np.array(classifier3(xx1.ravel(), xx2.ravel(), meannl, classifiern3_cov, priornl))\n",
        "Z = Z.reshape(xx1.shape)\n",
        "\n",
        "plt.contourf(xx1, xx2, Z, alpha=0.3, cmap=cmap)\n",
        "plt.xlim(xx1.min(), xx1.max())\n",
        "plt.ylim(xx2.min(), xx2.max())\n",
        "\n",
        "plt.scatter(train_nlC1x, train_nlC1y)\n",
        "plt.scatter(train_nlC2x, train_nlC2y)\n",
        "plt.scatter(train_nlC3x, train_nlC3y)\n",
        "plt.title('CASE 3 Nonlinear Classifier')\n",
        "plt.show()"
      ],
      "metadata": {
        "colab": {
          "base_uri": "https://localhost:8080/",
          "height": 281
        },
        "id": "wbrGl2IkmZC9",
        "outputId": "42e838ef-3f07-4545-ee77-80ae0a824150"
      },
      "execution_count": 52,
      "outputs": [
        {
          "output_type": "display_data",
          "data": {
            "text/plain": [
              "<Figure size 432x288 with 1 Axes>"
            ],
            "image/png": "[encoded data removed]"
          },
          "metadata": {
            "needs_background": "light"
          }
        }
      ]
    },
    {
      "cell_type": "markdown",
      "source": [
        "**CASE 4**"
      ],
      "metadata": {
        "id": "FEDAWPi9datH"
      }
    },
    {
      "cell_type": "markdown",
      "source": [
        "*Full covariance matrix, distinct for each class. Use the sample covariance matrix for each class.*"
      ],
      "metadata": {
        "id": "CvVHYuLLdjaM"
      }
    },
    {
      "cell_type": "code",
      "source": [
        "classifier4_cov = (covlc1, covlc2, covlc3)"
      ],
      "metadata": {
        "id": "7aeT4r2VC5IZ"
      },
      "execution_count": 53,
      "outputs": []
    },
    {
      "cell_type": "code",
      "source": [
        "classifiern4_cov = (covnlc1, covnlc2, covnlc3)"
      ],
      "metadata": {
        "id": "9keZ8apYm0EC"
      },
      "execution_count": 54,
      "outputs": []
    },
    {
      "cell_type": "code",
      "source": [
        "def classifier4(x, y, mu, cov, prior):\n",
        "  mu1, mu2, mu3 = mu\n",
        "  prior1, prior2, prior3 = prior \n",
        "  cov1, cov2, cov3 = cov\n",
        "  classifier3_pred = []\n",
        "  for i in range(len(x)):\n",
        "    xi = [x[i], y[i]]\n",
        "    lh1 = multivariateDensity(xi, mu1, cov1)\n",
        "    lh2 = multivariateDensity(xi, mu2, cov2)\n",
        "    lh3 = multivariateDensity(xi, mu3, cov3)\n",
        "\n",
        "    posterior1 = (prior1 * lh1) / (lh1 * prior1 + lh2 * prior2 + lh3 * prior3)\n",
        "    posterior2 = (prior2 * lh2) / (lh1 * prior1 + lh2 * prior2 + lh3 * prior3)\n",
        "    posterior3 = (prior3 * lh3) / (lh1 * prior1 + lh2 * prior2 + lh3 * prior3)\n",
        "\n",
        "    posterior = np.array([posterior1, posterior2, posterior3])\n",
        "    pred = np.argmax(posterior)\n",
        "    classifier3_pred.append(pred)\n",
        "\n",
        "  return classifier3_pred"
      ],
      "metadata": {
        "id": "tl3LEBOWdoNC"
      },
      "execution_count": 55,
      "outputs": []
    },
    {
      "cell_type": "code",
      "source": [
        "meanl = (meanlc1, meanlc2, meanlc3)\n",
        "priorl = (priorlC1, priorlC2, priorlC3)\n",
        "classifier4_pred = classifier4(test_datalx, test_dataly, meanl, classifier4_cov, priorl)\n",
        "classifier4_pred = [i+1 for i in classifier4_pred]"
      ],
      "metadata": {
        "id": "58NnTms8gDFZ"
      },
      "execution_count": 56,
      "outputs": []
    },
    {
      "cell_type": "code",
      "source": [
        "meannl = (meannlc1, meannlc2, meannlc3)\n",
        "priornl = (priornlC1, priornlC2, priornlC3)\n",
        "classifiern4_pred = classifier4(test_datanlx, test_datanly, meannl, classifiern4_cov, priornl)\n",
        "classifiern4_pred = [i+1 for i in classifiern4_pred]"
      ],
      "metadata": {
        "id": "e5zrC0-Pm7Rp"
      },
      "execution_count": 57,
      "outputs": []
    },
    {
      "cell_type": "code",
      "source": [
        "colors = ('black', 'yellow', 'm', 'blue', 'cyan')\n",
        "cmap = ListedColormap(colors[:len(np.unique(dvly))])\n",
        "resolution = 0.1\n",
        "\n",
        "\n",
        "xx1, xx2 = np.meshgrid(np.arange(lminx, lmaxx, resolution), np.arange(lminy, lmaxy, resolution))\n",
        "\n",
        "Z = np.array(classifier3(xx1.ravel(), xx2.ravel(), meanl, classifier4_cov, priorl))\n",
        "Z = Z.reshape(xx1.shape)\n",
        "\n",
        "plt.contourf(xx1, xx2, Z, alpha=0.3, cmap=cmap)\n",
        "plt.xlim(xx1.min(), xx1.max())\n",
        "plt.ylim(xx2.min(), xx2.max())\n",
        "\n",
        "plt.scatter(train_lC1x, train_lC1y)\n",
        "plt.scatter(train_lC2x, train_lC2y)\n",
        "plt.scatter(train_lC3x, train_lC3y)\n",
        "plt.title(' CASE4 classifier')\n",
        "plt.show()"
      ],
      "metadata": {
        "colab": {
          "base_uri": "https://localhost:8080/",
          "height": 281
        },
        "id": "h7v3Hsw_gNda",
        "outputId": "46d5725a-b17c-426a-d209-7dc500e0607e"
      },
      "execution_count": 58,
      "outputs": [
        {
          "output_type": "display_data",
          "data": {
            "text/plain": [
              "<Figure size 432x288 with 1 Axes>"
            ],
            "image/png": "[encoded data removed]"
          },
          "metadata": {
            "needs_background": "light"
          }
        }
      ]
    },
    {
      "cell_type": "code",
      "source": [
        "colors = ('black', 'yellow', 'm', 'blue', 'cyan')\n",
        "cmap = ListedColormap(colors[:len(np.unique(dvnly))])\n",
        "resolution = 0.1\n",
        "\n",
        "\n",
        "xx1, xx2 = np.meshgrid(np.arange(nlminx, nlmaxx, resolution), np.arange(nlminy, nlmaxy, resolution))\n",
        "\n",
        "Z = np.array(classifier3(xx1.ravel(), xx2.ravel(), meannl, classifiern4_cov, priornl))\n",
        "Z = Z.reshape(xx1.shape)\n",
        "\n",
        "plt.contourf(xx1, xx2, Z, alpha=0.3, cmap=cmap)\n",
        "plt.xlim(xx1.min(), xx1.max())\n",
        "plt.ylim(xx2.min(), xx2.max())\n",
        "\n",
        "plt.scatter(train_nlC1x, train_nlC1y)\n",
        "plt.scatter(train_nlC2x, train_nlC2y)\n",
        "plt.scatter(train_nlC3x, train_nlC3y)\n",
        "plt.title('CASE 4 Non-linear Classifier')\n",
        "plt.show()"
      ],
      "metadata": {
        "colab": {
          "base_uri": "https://localhost:8080/",
          "height": 281
        },
        "id": "voK9A1GBgTFT",
        "outputId": "c51525ea-dbb6-40ec-f132-7639da01743e"
      },
      "execution_count": 59,
      "outputs": [
        {
          "output_type": "display_data",
          "data": {
            "text/plain": [
              "<Figure size 432x288 with 1 Axes>"
            ],
            "image/png": "[encoded data removed]"
          },
          "metadata": {
            "needs_background": "light"
          }
        }
      ]
    },
    {
      "cell_type": "markdown",
      "source": [
        "**CONFUSION MATRIX**"
      ],
      "metadata": {
        "id": "qP6mt5Fp7HVk"
      }
    },
    {
      "cell_type": "code",
      "source": [
        "C1cm = confusion_matrix(classifier1_pred, Gtl)\n",
        "Cn1cm = confusion_matrix(classifiern1_pred, Gtnl)\n",
        "\n",
        "C2cm = confusion_matrix(classifier2_pred, Gtl)\n",
        "Cn2cm = confusion_matrix(classifiern2_pred, Gtnl)\n",
        "\n",
        "C3cm = confusion_matrix(classifier3_pred, Gtl)\n",
        "Cn3cm = confusion_matrix(classifiern3_pred, Gtnl)\n",
        "\n",
        "C4cm = confusion_matrix(classifier4_pred, Gtl)\n",
        "Cn4cm = confusion_matrix(classifiern4_pred, Gtnl)\n"
      ],
      "metadata": {
        "id": "Jsz_G7nn5AZ8"
      },
      "execution_count": 60,
      "outputs": []
    },
    {
      "cell_type": "code",
      "source": [
        "d1={'Confusion matrix':[C1cm,Cn1cm,C2cm,Cn2cm,C3cm,Cn3cm,C4cm,Cn4cm]}\n",
        "df1 = pd.DataFrame(data=d1)\n",
        "index=['linear CASE 1',' nonlinear CASE 1','linear CASE 2','non linear CASE 2','linear CASE 3','nonlinear CASE 3','linear CASE 4','nonlinear CASE 4']\n",
        "df1.insert(0, \"index\", index, True)\n",
        "df1\n",
        "\n"
      ],
      "metadata": {
        "colab": {
          "base_uri": "https://localhost:8080/",
          "height": 300
        },
        "id": "3BY72rKz5SAF",
        "outputId": "1231113d-c379-4f00-ab54-e52f888adfdc"
      },
      "execution_count": 61,
      "outputs": [
        {
          "output_type": "execute_result",
          "data": {
            "text/plain": [
              "               index                           Confusion matrix\n",
              "0      linear CASE 1    [[250, 0, 0], [0, 250, 0], [0, 0, 250]]\n",
              "1   nonlinear CASE 1  [[222, 16, 22], [0, 234, 0], [0, 0, 228]]\n",
              "2      linear CASE 2    [[250, 0, 0], [0, 250, 0], [0, 0, 250]]\n",
              "3  non linear CASE 2  [[222, 16, 22], [0, 234, 0], [0, 0, 228]]\n",
              "4      linear CASE 3    [[250, 0, 0], [0, 250, 0], [0, 0, 250]]\n",
              "5   nonlinear CASE 3  [[220, 12, 21], [0, 238, 0], [0, 0, 229]]\n",
              "6      linear CASE 4    [[250, 0, 0], [0, 250, 0], [0, 0, 250]]\n",
              "7   nonlinear CASE 4   [[221, 9, 22], [0, 241, 0], [0, 0, 228]]"
            ],
            "text/html": [
              "\n",
              "  <div id=\"df-4ea9eb45-22fe-465b-9238-1e7a21f34f59\">\n",
              "    <div class=\"colab-df-container\">\n",
              "      <div>\n",
              "<style scoped>\n",
              "    .dataframe tbody tr th:only-of-type {\n",
              "        vertical-align: middle;\n",
              "    }\n",
              "\n",
              "    .dataframe tbody tr th {\n",
              "        vertical-align: top;\n",
              "    }\n",
              "\n",
              "    .dataframe thead th {\n",
              "        text-align: right;\n",
              "    }\n",
              "</style>\n",
              "<table border=\"1\" class=\"dataframe\">\n",
              "  <thead>\n",
              "    <tr style=\"text-align: right;\">\n",
              "      <th></th>\n",
              "      <th>index</th>\n",
              "      <th>Confusion matrix</th>\n",
              "    </tr>\n",
              "  </thead>\n",
              "  <tbody>\n",
              "    <tr>\n",
              "      <th>0</th>\n",
              "      <td>linear CASE 1</td>\n",
              "      <td>[[250, 0, 0], [0, 250, 0], [0, 0, 250]]</td>\n",
              "    </tr>\n",
              "    <tr>\n",
              "      <th>1</th>\n",
              "      <td>nonlinear CASE 1</td>\n",
              "      <td>[[222, 16, 22], [0, 234, 0], [0, 0, 228]]</td>\n",
              "    </tr>\n",
              "    <tr>\n",
              "      <th>2</th>\n",
              "      <td>linear CASE 2</td>\n",
              "      <td>[[250, 0, 0], [0, 250, 0], [0, 0, 250]]</td>\n",
              "    </tr>\n",
              "    <tr>\n",
              "      <th>3</th>\n",
              "      <td>non linear CASE 2</td>\n",
              "      <td>[[222, 16, 22], [0, 234, 0], [0, 0, 228]]</td>\n",
              "    </tr>\n",
              "    <tr>\n",
              "      <th>4</th>\n",
              "      <td>linear CASE 3</td>\n",
              "      <td>[[250, 0, 0], [0, 250, 0], [0, 0, 250]]</td>\n",
              "    </tr>\n",
              "    <tr>\n",
              "      <th>5</th>\n",
              "      <td>nonlinear CASE 3</td>\n",
              "      <td>[[220, 12, 21], [0, 238, 0], [0, 0, 229]]</td>\n",
              "    </tr>\n",
              "    <tr>\n",
              "      <th>6</th>\n",
              "      <td>linear CASE 4</td>\n",
              "      <td>[[250, 0, 0], [0, 250, 0], [0, 0, 250]]</td>\n",
              "    </tr>\n",
              "    <tr>\n",
              "      <th>7</th>\n",
              "      <td>nonlinear CASE 4</td>\n",
              "      <td>[[221, 9, 22], [0, 241, 0], [0, 0, 228]]</td>\n",
              "    </tr>\n",
              "  </tbody>\n",
              "</table>\n",
              "</div>\n",
              "      <button class=\"colab-df-convert\" onclick=\"convertToInteractive('df-4ea9eb45-22fe-465b-9238-1e7a21f34f59')\"\n",
              "              title=\"Convert this dataframe to an interactive table.\"\n",
              "              style=\"display:none;\">\n",
              "        \n",
              "  <svg xmlns=\"http://www.w3.org/2000/svg\" height=\"24px\"viewBox=\"0 0 24 24\"\n",
              "       width=\"24px\">\n",
              "    <path d=\"M0 0h24v24H0V0z\" fill=\"none\"/>\n",
              "    <path d=\"M18.56 5.44l.94 2.06.94-2.06 2.06-.94-2.06-.94-.94-2.06-.94 2.06-2.06.94zm-11 1L8.5 8.5l.94-2.06 2.06-.94-2.06-.94L8.5 2.5l-.94 2.06-2.06.94zm10 10l.94 2.06.94-2.06 2.06-.94-2.06-.94-.94-2.06-.94 2.06-2.06.94z\"/><path d=\"M17.41 7.96l-1.37-1.37c-.4-.4-.92-.59-1.43-.59-.52 0-1.04.2-1.43.59L10.3 9.45l-7.72 7.72c-.78.78-.78 2.05 0 2.83L4 21.41c.39.39.9.59 1.41.59.51 0 1.02-.2 1.41-.59l7.78-7.78 2.81-2.81c.8-.78.8-2.07 0-2.86zM5.41 20L4 18.59l7.72-7.72 1.47 1.35L5.41 20z\"/>\n",
              "  </svg>\n",
              "      </button>\n",
              "      \n",
              "  <style>\n",
              "    .colab-df-container {\n",
              "      display:flex;\n",
              "      flex-wrap:wrap;\n",
              "      gap: 12px;\n",
              "    }\n",
              "\n",
              "    .colab-df-convert {\n",
              "      background-color: #E8F0FE;\n",
              "      border: none;\n",
              "      border-radius: 50%;\n",
              "      cursor: pointer;\n",
              "      display: none;\n",
              "      fill: #1967D2;\n",
              "      height: 32px;\n",
              "      padding: 0 0 0 0;\n",
              "      width: 32px;\n",
              "    }\n",
              "\n",
              "    .colab-df-convert:hover {\n",
              "      background-color: #E2EBFA;\n",
              "      box-shadow: 0px 1px 2px rgba(60, 64, 67, 0.3), 0px 1px 3px 1px rgba(60, 64, 67, 0.15);\n",
              "      fill: #174EA6;\n",
              "    }\n",
              "\n",
              "    [theme=dark] .colab-df-convert {\n",
              "      background-color: #3B4455;\n",
              "      fill: #D2E3FC;\n",
              "    }\n",
              "\n",
              "    [theme=dark] .colab-df-convert:hover {\n",
              "      background-color: #434B5C;\n",
              "      box-shadow: 0px 1px 3px 1px rgba(0, 0, 0, 0.15);\n",
              "      filter: drop-shadow(0px 1px 2px rgba(0, 0, 0, 0.3));\n",
              "      fill: #FFFFFF;\n",
              "    }\n",
              "  </style>\n",
              "\n",
              "      <script>\n",
              "        const buttonEl =\n",
              "          document.querySelector('#df-4ea9eb45-22fe-465b-9238-1e7a21f34f59 button.colab-df-convert');\n",
              "        buttonEl.style.display =\n",
              "          google.colab.kernel.accessAllowed ? 'block' : 'none';\n",
              "\n",
              "        async function convertToInteractive(key) {\n",
              "          const element = document.querySelector('#df-4ea9eb45-22fe-465b-9238-1e7a21f34f59');\n",
              "          const dataTable =\n",
              "            await google.colab.kernel.invokeFunction('convertToInteractive',\n",
              "                                                     [key], {});\n",
              "          if (!dataTable) return;\n",
              "\n",
              "          const docLinkHtml = 'Like what you see? Visit the ' +\n",
              "            '<a target=\"_blank\" href=https://colab.research.google.com/notebooks/data_table.ipynb>data table notebook</a>'\n",
              "            + ' to learn more about interactive tables.';\n",
              "          element.innerHTML = '';\n",
              "          dataTable['output_type'] = 'display_data';\n",
              "          await google.colab.output.renderOutput(dataTable, element);\n",
              "          const docLink = document.createElement('div');\n",
              "          docLink.innerHTML = docLinkHtml;\n",
              "          element.appendChild(docLink);\n",
              "        }\n",
              "      </script>\n",
              "    </div>\n",
              "  </div>\n",
              "  "
            ]
          },
          "metadata": {},
          "execution_count": 61
        }
      ]
    },
    {
      "cell_type": "markdown",
      "source": [
        "**Comparision table**"
      ],
      "metadata": {
        "id": "YMFI6hIYuudM"
      }
    },
    {
      "cell_type": "code",
      "source": [
        "d = {'Accuracy': [accuracy(C1cm),accuracy(Cn1cm),accuracy(C2cm),accuracy(Cn2cm),accuracy(C3cm),accuracy(Cn3cm),accuracy(C4cm),accuracy(Cn4cm)], \n",
        "     'Precision': [precision(C1cm),precision(Cn1cm),precision(C2cm),precision(Cn2cm),precision(C3cm),precision(Cn3cm),precision(C4cm),precision(Cn4cm)], \n",
        "     'Recall': [recall(C1cm),recall(Cn1cm),recall(C2cm),recall(Cn2cm),recall(C3cm),recall(Cn3cm),recall(C4cm),recall(Cn4cm)], \n",
        "     'F1-score': [Fmeasure(C1cm),Fmeasure(Cn1cm),Fmeasure(C2cm),Fmeasure(Cn2cm),Fmeasure(C3cm),Fmeasure(Cn3cm),Fmeasure(C4cm),Fmeasure(Cn4cm)]}\n",
        "\n",
        "df = pd.DataFrame(data=d)\n",
        "index=['linear CASE 1',' nonlinear CASE 1','linear CASE 2','non linear CASE 2','linear CASE 3','nonlinear CASE 3','linear CASE 4','nonlinear CASE 4']\n",
        "df.insert(0, \"index\", index, True)\n",
        "df"
      ],
      "metadata": {
        "colab": {
          "base_uri": "https://localhost:8080/",
          "height": 300
        },
        "id": "1A8qXDjUpE5I",
        "outputId": "7479824b-4318-4622-fbd0-e971fa686b6f"
      },
      "execution_count": 64,
      "outputs": [
        {
          "output_type": "execute_result",
          "data": {
            "text/plain": [
              "               index  Accuracy  Precision    Recall  F1-score\n",
              "0      linear CASE 1     1.000   1.000000  1.000000  1.000000\n",
              "1   nonlinear CASE 1     0.912   0.951282  0.949333  0.947360\n",
              "2      linear CASE 2     1.000   1.000000  1.000000  1.000000\n",
              "3  non linear CASE 2     0.912   0.951282  0.949333  0.947360\n",
              "4      linear CASE 3     1.000   1.000000  1.000000  1.000000\n",
              "5   nonlinear CASE 3     0.916   0.956522  0.956000  0.953934\n",
              "6      linear CASE 4     1.000   1.000000  1.000000  1.000000\n",
              "7   nonlinear CASE 4     0.920   0.958995  0.958667  0.956702"
            ],
            "text/html": [
              "\n",
              "  <div id=\"df-ca2f258d-deb2-411d-9ca4-f14da1026aeb\">\n",
              "    <div class=\"colab-df-container\">\n",
              "      <div>\n",
              "<style scoped>\n",
              "    .dataframe tbody tr th:only-of-type {\n",
              "        vertical-align: middle;\n",
              "    }\n",
              "\n",
              "    .dataframe tbody tr th {\n",
              "        vertical-align: top;\n",
              "    }\n",
              "\n",
              "    .dataframe thead th {\n",
              "        text-align: right;\n",
              "    }\n",
              "</style>\n",
              "<table border=\"1\" class=\"dataframe\">\n",
              "  <thead>\n",
              "    <tr style=\"text-align: right;\">\n",
              "      <th></th>\n",
              "      <th>index</th>\n",
              "      <th>Accuracy</th>\n",
              "      <th>Precision</th>\n",
              "      <th>Recall</th>\n",
              "      <th>F1-score</th>\n",
              "    </tr>\n",
              "  </thead>\n",
              "  <tbody>\n",
              "    <tr>\n",
              "      <th>0</th>\n",
              "      <td>linear CASE 1</td>\n",
              "      <td>1.000</td>\n",
              "      <td>1.000000</td>\n",
              "      <td>1.000000</td>\n",
              "      <td>1.000000</td>\n",
              "    </tr>\n",
              "    <tr>\n",
              "      <th>1</th>\n",
              "      <td>nonlinear CASE 1</td>\n",
              "      <td>0.912</td>\n",
              "      <td>0.951282</td>\n",
              "      <td>0.949333</td>\n",
              "      <td>0.947360</td>\n",
              "    </tr>\n",
              "    <tr>\n",
              "      <th>2</th>\n",
              "      <td>linear CASE 2</td>\n",
              "      <td>1.000</td>\n",
              "      <td>1.000000</td>\n",
              "      <td>1.000000</td>\n",
              "      <td>1.000000</td>\n",
              "    </tr>\n",
              "    <tr>\n",
              "      <th>3</th>\n",
              "      <td>non linear CASE 2</td>\n",
              "      <td>0.912</td>\n",
              "      <td>0.951282</td>\n",
              "      <td>0.949333</td>\n",
              "      <td>0.947360</td>\n",
              "    </tr>\n",
              "    <tr>\n",
              "      <th>4</th>\n",
              "      <td>linear CASE 3</td>\n",
              "      <td>1.000</td>\n",
              "      <td>1.000000</td>\n",
              "      <td>1.000000</td>\n",
              "      <td>1.000000</td>\n",
              "    </tr>\n",
              "    <tr>\n",
              "      <th>5</th>\n",
              "      <td>nonlinear CASE 3</td>\n",
              "      <td>0.916</td>\n",
              "      <td>0.956522</td>\n",
              "      <td>0.956000</td>\n",
              "      <td>0.953934</td>\n",
              "    </tr>\n",
              "    <tr>\n",
              "      <th>6</th>\n",
              "      <td>linear CASE 4</td>\n",
              "      <td>1.000</td>\n",
              "      <td>1.000000</td>\n",
              "      <td>1.000000</td>\n",
              "      <td>1.000000</td>\n",
              "    </tr>\n",
              "    <tr>\n",
              "      <th>7</th>\n",
              "      <td>nonlinear CASE 4</td>\n",
              "      <td>0.920</td>\n",
              "      <td>0.958995</td>\n",
              "      <td>0.958667</td>\n",
              "      <td>0.956702</td>\n",
              "    </tr>\n",
              "  </tbody>\n",
              "</table>\n",
              "</div>\n",
              "      <button class=\"colab-df-convert\" onclick=\"convertToInteractive('df-ca2f258d-deb2-411d-9ca4-f14da1026aeb')\"\n",
              "              title=\"Convert this dataframe to an interactive table.\"\n",
              "              style=\"display:none;\">\n",
              "        \n",
              "  <svg xmlns=\"http://www.w3.org/2000/svg\" height=\"24px\"viewBox=\"0 0 24 24\"\n",
              "       width=\"24px\">\n",
              "    <path d=\"M0 0h24v24H0V0z\" fill=\"none\"/>\n",
              "    <path d=\"M18.56 5.44l.94 2.06.94-2.06 2.06-.94-2.06-.94-.94-2.06-.94 2.06-2.06.94zm-11 1L8.5 8.5l.94-2.06 2.06-.94-2.06-.94L8.5 2.5l-.94 2.06-2.06.94zm10 10l.94 2.06.94-2.06 2.06-.94-2.06-.94-.94-2.06-.94 2.06-2.06.94z\"/><path d=\"M17.41 7.96l-1.37-1.37c-.4-.4-.92-.59-1.43-.59-.52 0-1.04.2-1.43.59L10.3 9.45l-7.72 7.72c-.78.78-.78 2.05 0 2.83L4 21.41c.39.39.9.59 1.41.59.51 0 1.02-.2 1.41-.59l7.78-7.78 2.81-2.81c.8-.78.8-2.07 0-2.86zM5.41 20L4 18.59l7.72-7.72 1.47 1.35L5.41 20z\"/>\n",
              "  </svg>\n",
              "      </button>\n",
              "      \n",
              "  <style>\n",
              "    .colab-df-container {\n",
              "      display:flex;\n",
              "      flex-wrap:wrap;\n",
              "      gap: 12px;\n",
              "    }\n",
              "\n",
              "    .colab-df-convert {\n",
              "      background-color: #E8F0FE;\n",
              "      border: none;\n",
              "      border-radius: 50%;\n",
              "      cursor: pointer;\n",
              "      display: none;\n",
              "      fill: #1967D2;\n",
              "      height: 32px;\n",
              "      padding: 0 0 0 0;\n",
              "      width: 32px;\n",
              "    }\n",
              "\n",
              "    .colab-df-convert:hover {\n",
              "      background-color: #E2EBFA;\n",
              "      box-shadow: 0px 1px 2px rgba(60, 64, 67, 0.3), 0px 1px 3px 1px rgba(60, 64, 67, 0.15);\n",
              "      fill: #174EA6;\n",
              "    }\n",
              "\n",
              "    [theme=dark] .colab-df-convert {\n",
              "      background-color: #3B4455;\n",
              "      fill: #D2E3FC;\n",
              "    }\n",
              "\n",
              "    [theme=dark] .colab-df-convert:hover {\n",
              "      background-color: #434B5C;\n",
              "      box-shadow: 0px 1px 3px 1px rgba(0, 0, 0, 0.15);\n",
              "      filter: drop-shadow(0px 1px 2px rgba(0, 0, 0, 0.3));\n",
              "      fill: #FFFFFF;\n",
              "    }\n",
              "  </style>\n",
              "\n",
              "      <script>\n",
              "        const buttonEl =\n",
              "          document.querySelector('#df-ca2f258d-deb2-411d-9ca4-f14da1026aeb button.colab-df-convert');\n",
              "        buttonEl.style.display =\n",
              "          google.colab.kernel.accessAllowed ? 'block' : 'none';\n",
              "\n",
              "        async function convertToInteractive(key) {\n",
              "          const element = document.querySelector('#df-ca2f258d-deb2-411d-9ca4-f14da1026aeb');\n",
              "          const dataTable =\n",
              "            await google.colab.kernel.invokeFunction('convertToInteractive',\n",
              "                                                     [key], {});\n",
              "          if (!dataTable) return;\n",
              "\n",
              "          const docLinkHtml = 'Like what you see? Visit the ' +\n",
              "            '<a target=\"_blank\" href=https://colab.research.google.com/notebooks/data_table.ipynb>data table notebook</a>'\n",
              "            + ' to learn more about interactive tables.';\n",
              "          element.innerHTML = '';\n",
              "          dataTable['output_type'] = 'display_data';\n",
              "          await google.colab.output.renderOutput(dataTable, element);\n",
              "          const docLink = document.createElement('div');\n",
              "          docLink.innerHTML = docLinkHtml;\n",
              "          element.appendChild(docLink);\n",
              "        }\n",
              "      </script>\n",
              "    </div>\n",
              "  </div>\n",
              "  "
            ]
          },
          "metadata": {},
          "execution_count": 64
        }
      ]
    },
    {
      "cell_type": "code",
      "source": [],
      "metadata": {
        "id": "zgKJUgnD3uXY"
      },
      "execution_count": 62,
      "outputs": []
    }
  ]
}